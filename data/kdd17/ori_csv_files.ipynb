{
 "cells": [
  {
   "cell_type": "code",
   "execution_count": 10,
   "metadata": {},
   "outputs": [],
   "source": [
    "import pandas as pd\n",
    "import os\n",
    "import sys\n",
    "import yaml\n",
    "import numpy as np"
   ]
  },
  {
   "cell_type": "code",
   "execution_count": 15,
   "metadata": {},
   "outputs": [
    {
     "name": "stdout",
     "output_type": "stream",
     "text": [
      "mean holding period: 23 days\n"
     ]
    }
   ],
   "source": [
    "## Mean holdings\n",
    "Instruments = pd.read_csv('../Average_holdings.csv')\n",
    "mean_holding_period = round(Instruments.days.mean())\n",
    "print('mean holding period:', mean_holding_period, 'days')\n",
    "Inst_dict = dict(zip(Instruments.Symbol, Instruments.days))"
   ]
  },
  {
   "cell_type": "code",
   "execution_count": 16,
   "metadata": {},
   "outputs": [],
   "source": [
    "from sklearn.preprocessing import StandardScaler, MinMaxScaler"
   ]
  },
  {
   "cell_type": "code",
   "execution_count": 17,
   "metadata": {},
   "outputs": [
    {
     "name": "stdout",
     "output_type": "stream",
     "text": [
      "['AAPL', 'AMZN', 'BA', 'BAC', 'BHP', 'BRK-B', 'CHL', 'CMCSA', 'CVX', 'D', 'DIS', 'DUK', 'EXC', 'GE', 'HD', 'INTC', 'JNJ', 'JPM', 'KO', 'MA', 'MMM', 'MO', 'MRK', 'MSFT', 'ORCL', 'PEP', 'PFE', 'PG', 'RIO', 'SO', 'SPY', 'T', 'TM', 'UNH', 'UPS', 'VALE', 'VZ', 'WFC', 'WMT', 'XOM']\n",
      "num of intersection between lists: 34\n"
     ]
    }
   ],
   "source": [
    "original_path = 'ourpped/'\n",
    "new_dir_path = 'testing_oris/'\n",
    "\n",
    "from os import listdir\n",
    "KDD_tickers = [f.split('.')[0] for f in listdir(original_path)]\n",
    "#KDD_tickers.remove('')\n",
    "print(KDD_tickers)\n",
    "print('num of intersection between lists:', len(set(Inst_dict.keys()).intersection(KDD_tickers)))\n",
    "### create dict for mean holdings for stocknet\n",
    "KDD_tickers_dict = {}\n",
    "for s in KDD_tickers:\n",
    "    try:\n",
    "        KDD_tickers_dict[s] = int(Inst_dict[s])\n",
    "    except:\n",
    "        KDD_tickers_dict[s] = int(mean_holding_period)"
   ]
  },
  {
   "cell_type": "code",
   "execution_count": 21,
   "metadata": {},
   "outputs": [],
   "source": [
    "s='BHP'\n",
    "stock_movement_path = os.path.join(original_path, '{}.csv'.format(s))  \n",
    "df = pd.read_csv(stock_movement_path, header=None)\n",
    "#append mean holdings per stock\n",
    "mean_holding = KDD_tickers_dict[s]\n",
    "#save the last to column - will be replaced later\n",
    "tmp_last_columns = df.iloc[:,-2:].copy()\n",
    "\n",
    "## add my own features ##\n",
    "#1) avergae mean per each stock\n",
    "df.iloc[:,-2] = df.iloc[:,4].rolling(mean_holding).mean()\n",
    "\n",
    "#2) up most of the days\n",
    "df.iloc[:,-1] = df.iloc[:,4].rolling(mean_holding).agg(lambda x: (x > 0).mean())\n",
    "\n",
    "df_new = pd.concat([df, pd.DataFrame(tmp_last_columns)], axis=1)\n",
    "df_new = df_new.round(6)\n",
    "df_new.to_csv(os.path.join(new_dir_path,'{}_testing2.csv'.format(s)),header=None, index=None)"
   ]
  },
  {
   "cell_type": "code",
   "execution_count": null,
   "metadata": {},
   "outputs": [],
   "source": []
  }
 ],
 "metadata": {
  "kernelspec": {
   "display_name": "Psychological-Adv-ALSTM-Rania",
   "language": "python",
   "name": "psychological-adv-alstm-rania"
  },
  "language_info": {
   "codemirror_mode": {
    "name": "ipython",
    "version": 3
   },
   "file_extension": ".py",
   "mimetype": "text/x-python",
   "name": "python",
   "nbconvert_exporter": "python",
   "pygments_lexer": "ipython3",
   "version": "3.7.11"
  }
 },
 "nbformat": 4,
 "nbformat_minor": 4
}
