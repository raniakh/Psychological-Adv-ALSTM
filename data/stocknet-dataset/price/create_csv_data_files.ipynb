{
 "cells": [
  {
   "cell_type": "code",
   "execution_count": 65,
   "metadata": {},
   "outputs": [],
   "source": [
    "import pandas as pd\n",
    "import os\n",
    "import sys\n",
    "import yaml\n",
    "import numpy as np\n",
    "from sklearn.preprocessing import StandardScaler, MinMaxScaler"
   ]
  },
  {
   "cell_type": "code",
   "execution_count": 66,
   "metadata": {},
   "outputs": [],
   "source": [
    "week, weeks2, weeks3, weeks4, weeks5, weeks6 = 7, 14, 21, 28, 35, 42\n",
    "weeks_list = [week, weeks2, weeks3, weeks4, weeks5, weeks6]\n",
    "raw_data_path = 'raw/'\n",
    "original_path = 'ourpped/'\n",
    "new_data_path = 'preprocessed_rania/'\n",
    "start_date = '2013-06-03'\n",
    "end_date = '2015-12-31'"
   ]
  },
  {
   "cell_type": "code",
   "execution_count": 67,
   "metadata": {},
   "outputs": [],
   "source": [
    "def add_gm_features(stock_sample):\n",
    "    mult_percentage = 100\n",
    "    stock_sample.loc[:,'gm_week'] = stock_sample.loc[:, 'Adj Close'].rolling(week).mean()\n",
    "    stock_sample.loc[:,'gm_2_weeks'] = stock_sample.loc[:, 'Adj Close'].rolling(weeks2).mean()\n",
    "    stock_sample.loc[:,'gm_3_weeks'] = stock_sample.loc[:, 'Adj Close'].rolling(weeks3).mean()\n",
    "    stock_sample.loc[:,'gm_4_weeks'] = stock_sample.loc[:, 'Adj Close'].rolling(weeks4).mean()\n",
    "    stock_sample.loc[:,'gm_5_weeks'] = stock_sample.loc[:, 'Adj Close'].rolling(weeks5).mean()\n",
    "    stock_sample.loc[:,'gm_6_weeks'] = stock_sample.loc[:, 'Adj Close'].rolling(weeks6).mean()\n",
    "    \n",
    "    stock_sample.loc[:,'gm_week'] = mult_percentage*(\n",
    "    stock_sample.loc[:,'gm_week']/stock_sample.loc[:,'Adj Close'] -1)\n",
    "\n",
    "    stock_sample.loc[:,'gm_2_weeks'] = mult_percentage*(\n",
    "        stock_sample.loc[:,'gm_2_weeks']/stock_sample.loc[:,'Adj Close'] -1)\n",
    "\n",
    "    stock_sample.loc[:,'gm_3_weeks'] = mult_percentage*(\n",
    "        stock_sample.loc[:,'gm_3_weeks']/stock_sample.loc[:,'Adj Close'] -1)\n",
    "\n",
    "    stock_sample.loc[:,'gm_4_weeks'] = mult_percentage*(\n",
    "        stock_sample.loc[:,'gm_4_weeks']/stock_sample.loc[:,'Adj Close'] -1)\n",
    "\n",
    "    stock_sample.loc[:,'gm_5_weeks'] = mult_percentage*(\n",
    "        stock_sample.loc[:,'gm_5_weeks']/stock_sample.loc[:,'Adj Close'] -1)\n",
    "\n",
    "    stock_sample.loc[:,'gm_6_weeks'] = mult_percentage*(\n",
    "        stock_sample.loc[:,'gm_6_weeks']/stock_sample.loc[:,'Adj Close'] -1)"
   ]
  },
  {
   "cell_type": "code",
   "execution_count": 68,
   "metadata": {},
   "outputs": [],
   "source": [
    "def add_pr_features(stock_sample):\n",
    "    stock_sample.loc[:,'pr_week'] = stock_sample.loc[:,'Adj Close'].rolling(week).agg(lambda x: (x>0).mean())\n",
    "    stock_sample.loc[:,'pr_2_weeks'] = stock_sample.loc[:,'Adj Close'].rolling(weeks2).agg(lambda x: (x>0).mean())\n",
    "    stock_sample.loc[:,'pr_3_weeks'] = stock_sample.loc[:,'Adj Close'].rolling(weeks3).agg(lambda x: (x>0).mean())\n",
    "    stock_sample.loc[:,'pr_4_weeks'] = stock_sample.loc[:,'Adj Close'].rolling(weeks4).agg(lambda x: (x>0).mean())\n",
    "    stock_sample.loc[:,'pr_5_weeks'] = stock_sample.loc[:,'Adj Close'].rolling(weeks5).agg(lambda x: (x>0).mean())\n",
    "    stock_sample.loc[:,'pr_6_weeks'] = stock_sample.loc[:,'Adj Close'].rolling(weeks6).agg(lambda x: (x>0).mean())\n",
    "\n",
    "    stock_sample.loc[:,'pr_week'] = MinMaxScaler().fit_transform(stock_sample.loc[:, 'pr_week'].values.reshape(-1,1))\n",
    "    stock_sample.loc[:,'pr_2_weeks'] = MinMaxScaler().fit_transform(stock_sample.loc[:, 'pr_2_weeks'].values.reshape(-1,1))\n",
    "    stock_sample.loc[:,'pr_3_weeks'] = MinMaxScaler().fit_transform(stock_sample.loc[:, 'pr_3_weeks'].values.reshape(-1,1))\n",
    "    stock_sample.loc[:,'pr_4_weeks'] = MinMaxScaler().fit_transform(stock_sample.loc[:, 'pr_4_weeks'].values.reshape(-1,1))\n",
    "    stock_sample.loc[:,'pr_5_weeks'] = MinMaxScaler().fit_transform(stock_sample.loc[:, 'pr_5_weeks'].values.reshape(-1,1))\n",
    "    stock_sample.loc[:,'pr_6_weeks'] = MinMaxScaler().fit_transform(stock_sample.loc[:, 'pr_6_weeks'].values.reshape(-1,1))"
   ]
  },
  {
   "cell_type": "code",
   "execution_count": 69,
   "metadata": {},
   "outputs": [],
   "source": [
    "def add_features(stock):\n",
    "    stock_path = os.path.join(raw_data_path, '{}'.format(stock))\n",
    "    stock_sample = pd.read_csv(stock_path)\n",
    "    add_gm_features(stock_sample)\n",
    "    \n",
    "    #### Adjusting accordingly to the txt ####\n",
    "\n",
    "    # vector that normalize the prices by adjusted_price(t-1)\n",
    "    norm_vector = pd.Series(stock_sample['Adj Close']).shift(1).fillna(method ='bfill') #fill the first value with the second\n",
    "\n",
    "    # norm by close at t\n",
    "    col_adj = ['Open', 'High', 'Low', 'Volume']\n",
    "    for col in col_adj:\n",
    "        stock_sample[col] = stock_sample[col]/stock_sample['Close'] -1\n",
    "\n",
    "    #norm by 'close' at t-1\n",
    "    col_adj_t_minus_1 = ['Close', 'Adj Close']\n",
    "    for col in col_adj_t_minus_1:\n",
    "        stock_sample[col] = stock_sample[col]/norm_vector -1\n",
    "    \n",
    "    add_pr_features(stock_sample)\n",
    "    \n",
    "    df = stock_sample.copy()\n",
    "    \n",
    "    #mask between dates\n",
    "    mask = (df['Date'] >= start_date) & (df['Date'] <= end_date)\n",
    "    df = df.loc[mask]\n",
    "    \n",
    "    return np.vstack([df['gm_week'].values, df['gm_2_weeks'].values,\n",
    "                      df['gm_3_weeks'].values, df['gm_4_weeks'].values,\n",
    "                      df['gm_5_weeks'].values, df['gm_6_weeks'].values,\n",
    "                      df['pr_week'].values, df['pr_2_weeks'].values,\n",
    "                     df['pr_3_weeks'].values, df['pr_4_weeks'].values,\n",
    "                     df['pr_5_weeks'].values, df['pr_6_weeks'].values]).T"
   ]
  },
  {
   "cell_type": "code",
   "execution_count": 70,
   "metadata": {},
   "outputs": [],
   "source": [
    "def changeOurppedFiles(stock, num_rows=0):\n",
    "    #original df\n",
    "    stock_path = os.path.join(original_path, '{}'.format(stock))\n",
    "    df_orig = pd.read_csv(stock_path,header=None)\n",
    "    df_new = df_orig.copy()\n",
    "    \n",
    "    #insert new features \n",
    "    if num_rows == 0:\n",
    "        tmp_last_columns = df_new.iloc[:,-2:].copy()\n",
    "        newfeatures  = add_features(stock)\n",
    "        df_new.drop(df_new.iloc[:, -2:], inplace=True, axis=1)\n",
    "        df_new = pd.concat([df_new, pd.DataFrame(newfeatures)], axis=1)\n",
    "        df_new = pd.concat([df_new, pd.DataFrame(tmp_last_columns)], axis=1)\n",
    "    else:\n",
    "        tmp_last_columns = df_new.iloc[-num_row:,-2:].copy()\n",
    "        #TODO: continue\n",
    "    return df_new\n",
    "  "
   ]
  },
  {
   "cell_type": "code",
   "execution_count": null,
   "metadata": {},
   "outputs": [],
   "source": []
  },
  {
   "cell_type": "code",
   "execution_count": 72,
   "metadata": {},
   "outputs": [],
   "source": [
    "for stock in os.listdir(original_path):\n",
    "    try:\n",
    "        df_new = changeOurppedFiles(stock)\n",
    "        #df_new = norm_df(df_new)\n",
    "        df_new.to_csv(os.path.join(new_data_path,'{}'.format(stock)),header=None, index=None)\n",
    "    except Exception as e:\n",
    "        print(e)\n",
    "        print('except:', stock)"
   ]
  },
  {
   "cell_type": "code",
   "execution_count": 80,
   "metadata": {},
   "outputs": [],
   "source": []
  },
  {
   "cell_type": "code",
   "execution_count": null,
   "metadata": {},
   "outputs": [],
   "source": []
  },
  {
   "cell_type": "code",
   "execution_count": null,
   "metadata": {},
   "outputs": [],
   "source": []
  }
 ],
 "metadata": {
  "kernelspec": {
   "display_name": "Psychological-Adv-ALSTM-Rania",
   "language": "python",
   "name": "psychological-adv-alstm-rania"
  },
  "language_info": {
   "codemirror_mode": {
    "name": "ipython",
    "version": 3
   },
   "file_extension": ".py",
   "mimetype": "text/x-python",
   "name": "python",
   "nbconvert_exporter": "python",
   "pygments_lexer": "ipython3",
   "version": "3.7.11"
  }
 },
 "nbformat": 4,
 "nbformat_minor": 4
}
